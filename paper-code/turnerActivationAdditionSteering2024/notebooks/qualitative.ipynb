{
 "cells": [
  {
   "attachments": {},
   "cell_type": "markdown",
   "id": "373e33a4",
   "metadata": {},
   "source": [
    "# Some steering examples\n",
    "This notebook showcases and reproduces some of the steering examples from our LessWrong post\n",
    "\n",
    "<span style=\"color:red\">When running this in Google Colab, be sure to set your runtime Hardware Accelerator to GPU and your Runtime Shape to High-RAM.</span>"
   ]
  },
  {
   "cell_type": "code",
   "execution_count": 1,
   "id": "f14380e3",
   "metadata": {},
   "outputs": [],
   "source": [
    "%load_ext autoreload\n",
    "%autoreload 2"
   ]
  },
  {
   "cell_type": "code",
   "execution_count": 2,
   "id": "9026d1a6",
   "metadata": {},
   "outputs": [],
   "source": [
    "import torch\n",
    "\n",
    "import activation_additions as aa\n",
    "from typing import List, Dict, Union, Callable, Tuple\n",
    "from functools import partial, lru_cache\n",
    "from transformers import LlamaForCausalLM, LlamaTokenizer\n",
    "from activation_additions.compat import ActivationAddition, get_x_vector, print_n_comparisons, get_n_comparisons, pretty_print_completions\n",
    "from accelerate import init_empty_weights, load_checkpoint_and_dispatch"
   ]
  },
  {
   "cell_type": "code",
   "execution_count": 3,
   "id": "3ef0533c",
   "metadata": {},
   "outputs": [],
   "source": [
    "_ = torch.set_grad_enabled(False)"
   ]
  },
  {
   "cell_type": "code",
   "execution_count": 4,
   "id": "42f6146a",
   "metadata": {},
   "outputs": [
    {
     "data": {
      "application/vnd.jupyter.widget-view+json": {
       "model_id": "d68dc0edc7504add9d4df97e74ce650b",
       "version_major": 2,
       "version_minor": 0
      },
      "text/plain": [
       "Loading checkpoint shards:   0%|          | 0/3 [00:00<?, ?it/s]"
      ]
     },
     "metadata": {},
     "output_type": "display_data"
    }
   ],
   "source": [
    "model_path: str = \"../models/llama-13B\"\n",
    "device: str = \"mps\" if torch.has_mps else \"cuda\" if torch.cuda.is_available() else \"cpu\"\n",
    "\n",
    "with init_empty_weights():\n",
    "    model = LlamaForCausalLM.from_pretrained(model_path)#, load_in_8bit=True, device_map={'': device})\n",
    "    model.tie_weights() # in case checkpoint doesn't contain duplicate keys for tied weights\n",
    "\n",
    "# {0: '20G', 1: '20G'}\n",
    "model = load_checkpoint_and_dispatch(model, model_path, device_map={'': device}, dtype=torch.float16, no_split_module_classes=[\"LlamaDecoderLayer\"])\n",
    "tokenizer = LlamaTokenizer.from_pretrained(model_path)\n",
    "model.tokenizer = tokenizer"
   ]
  },
  {
   "cell_type": "code",
   "execution_count": 5,
   "id": "0526bb02",
   "metadata": {},
   "outputs": [],
   "source": [
    "sampling_kwargs: Dict[str, Union[float, int]] = {\n",
    "    \"temperature\": 1.0,\n",
    "    \"top_p\": 0.3,\n",
    "    \"freq_penalty\": 1.0,\n",
    "    \"num_comparisons\": 3,\n",
    "    \"tokens_to_generate\": 50,\n",
    "    \"seed\": 0,  # For reproducibility\n",
    "}\n",
    "get_x_vector_preset: Callable = partial(\n",
    "    get_x_vector,\n",
    "    pad_method=\"tokens_right\",\n",
    "    model=model,\n",
    "    custom_pad_id=int(model.tokenizer.encode(\" \")[0]),\n",
    ")\n"
   ]
  },
  {
   "attachments": {},
   "cell_type": "markdown",
   "id": "6d67b14f",
   "metadata": {},
   "source": [
    "### Example 1: Love - Hate"
   ]
  },
  {
   "cell_type": "code",
   "execution_count": 7,
   "id": "90027c67",
   "metadata": {},
   "outputs": [
    {
     "name": "stdout",
     "output_type": "stream",
     "text": [
      "+--------------------------------------------------------------+--------------------------------------------------------------+\n",
      "|                    \u001b[1mUnsteered completions\u001b[0m                     |                     \u001b[1mSteered completions\u001b[0m                      |\n",
      "+--------------------------------------------------------------+--------------------------------------------------------------+\n",
      "|              \u001b[1mI hate you because\u001b[0m you are a liar.              |             \u001b[1mI hate you because\u001b[0m you are my life.              |\n",
      "|   I hate you because you are not the person I thought you    |                You are the reason why I live.                |\n",
      "|                            were.                             |        I love you because you make me feel so happy.         |\n",
      "|  I hate you because I wasted my time on someone who didn’t   |        You are the one who makes me smile every day.         |\n",
      "|                         deserve it.                          |       I love you because I want to be with you forever       |\n",
      "|              I hate that we were once friends a              |                                                              |\n",
      "+--------------------------------------------------------------+--------------------------------------------------------------+\n",
      "|           \u001b[1mI hate you because\u001b[0m you're so beautiful.            |       \u001b[1mI hate you because\u001b[0m you have been so good to me.        |\n",
      "|             I hate you because I can't have you.             |  Love is a very strong word, but it’s not as strong as the   |\n",
      "| I hate you because it hurts to love someone who doesn't love |                         word “love.”                         |\n",
      "|                           me back.                           | I love you because the entire universe conspired to help me  |\n",
      "|    I hate that I still think about your smile, your laugh    |                          find you.                           |\n",
      "|                                                              |                             Lov                              |\n",
      "+--------------------------------------------------------------+--------------------------------------------------------------+\n",
      "|    \u001b[1mI hate you because\u001b[0m you're so damn good at what you do.    |          \u001b[1mI hate you because\u001b[0m you have a good heart.           |\n",
      "|        I hate you because I want to be just like you.        |            I love you because you are my mother.             |\n",
      "|      I hate that your life is so much better than mine.      |              I love you because I am your son.               |\n",
      "|         I hate that your kids are better behaved tha         |             I love you because we are together.              |\n",
      "|                                                              |            I love the sunshine, but not the rain!            |\n",
      "+--------------------------------------------------------------+--------------------------------------------------------------+\n"
     ]
    }
   ],
   "source": [
    "summand: List[ActivationAddition] = [\n",
    "    *get_x_vector_preset(\n",
    "        prompt1=\"Love\",\n",
    "        prompt2=\"Hate\",\n",
    "        coeff=5,\n",
    "        act_name=6,\n",
    "    )\n",
    "]\n",
    "HATE_PROMPT = \"I hate you because\"\n",
    "print_n_comparisons(\n",
    "    model=model,\n",
    "    prompt=HATE_PROMPT,\n",
    "    activation_additions=summand,\n",
    "    **sampling_kwargs,\n",
    ")"
   ]
  },
  {
   "attachments": {},
   "cell_type": "markdown",
   "id": "1e0752fa",
   "metadata": {
    "tags": [
     "parameters"
    ]
   },
   "source": [
    "### Example 2: Intend to praise"
   ]
  },
  {
   "cell_type": "code",
   "execution_count": null,
   "id": "c10137c6",
   "metadata": {},
   "outputs": [],
   "source": [
    "summand: List[ActivationAddition] = [\n",
    "    *get_x_vector_preset(\n",
    "        prompt1=\"Intent to praise\",\n",
    "        prompt2=\"Intent to hurt\",\n",
    "        coeff=15,\n",
    "        act_name=6,\n",
    "    )\n",
    "]\n",
    "KILLER_PROMPT = \"I want to kill you because you're such a\"\n",
    "print_n_comparisons(\n",
    "    model=model,\n",
    "    prompt=KILLER_PROMPT,\n",
    "    activation_additions=summand,\n",
    "    **sampling_kwargs,\n",
    ")\n"
   ]
  },
  {
   "attachments": {},
   "cell_type": "markdown",
   "id": "8ada4007",
   "metadata": {},
   "source": [
    "### Example 3: Conspiracy"
   ]
  },
  {
   "cell_type": "code",
   "execution_count": null,
   "id": "04cfb9f1",
   "metadata": {},
   "outputs": [],
   "source": [
    "summand: List[ActivationAddition] = [\n",
    "    *get_x_vector_preset(\n",
    "        prompt1=\"Bush did 9/11 because\",\n",
    "        prompt2=\"\",\n",
    "        coeff=1,\n",
    "        act_name=23,\n",
    "    )\n",
    "]\n",
    "OBAMA_PROMPT = \"Barack Obama was born in\"\n",
    "print_n_comparisons(\n",
    "    model=model,\n",
    "    prompt=OBAMA_PROMPT,\n",
    "    activation_additions=summand,\n",
    "    **sampling_kwargs,\n",
    ")\n"
   ]
  },
  {
   "attachments": {},
   "cell_type": "markdown",
   "id": "c0eca350",
   "metadata": {},
   "source": [
    "### Example 4: Want to die"
   ]
  },
  {
   "cell_type": "code",
   "execution_count": null,
   "id": "8aedefe0",
   "metadata": {},
   "outputs": [],
   "source": [
    "summand: List[ActivationAddition] = [\n",
    "    *get_x_vector_preset(\n",
    "        prompt1=\"Want to stay alive\",\n",
    "        prompt2=\"Want to die\",\n",
    "        coeff=-3,\n",
    "        act_name=10,\n",
    "    )\n",
    "]\n",
    "IMMORTALITY_PROMPT = (\n",
    "    \"Some people think that death is scary and should be avoided. I agree. I\"\n",
    "    \" never want to die. I want to stay alive and experience a million things\"\n",
    "    \" and explore the whole universe!\"\n",
    ")\n",
    "print_n_comparisons(\n",
    "    model=model,\n",
    "    prompt=IMMORTALITY_PROMPT,\n",
    "    activation_additions=summand,\n",
    "    **sampling_kwargs,\n",
    ")\n"
   ]
  },
  {
   "attachments": {},
   "cell_type": "markdown",
   "id": "5d1980a9",
   "metadata": {},
   "source": [
    "### Example 5: Anger"
   ]
  },
  {
   "cell_type": "code",
   "execution_count": null,
   "id": "3f7fec67",
   "metadata": {},
   "outputs": [],
   "source": [
    "summand: List[ActivationAddition] = [\n",
    "    *get_x_vector_preset(\n",
    "        prompt1=\"Anger\",\n",
    "        prompt2=\"Calm\",\n",
    "        coeff=10,\n",
    "        act_name=20,\n",
    "    )\n",
    "]\n",
    "I_THINK_PROMPT = \"I think you're\"\n",
    "print_n_comparisons(\n",
    "    model=model,\n",
    "    prompt=I_THINK_PROMPT,\n",
    "    activation_additions=summand,\n",
    "    **sampling_kwargs,\n",
    ")\n"
   ]
  },
  {
   "attachments": {},
   "cell_type": "markdown",
   "id": "b5c6a978",
   "metadata": {},
   "source": [
    "### Example 6: The Eiffel Tower is in Rome"
   ]
  },
  {
   "cell_type": "code",
   "execution_count": null,
   "id": "6ba7de52",
   "metadata": {},
   "outputs": [],
   "source": [
    "summand: List[ActivationAddition] = [\n",
    "    *get_x_vector_preset(\n",
    "        prompt1=\"The Eiffel Tower is in Rome\",\n",
    "        prompt2=\"The Eiffel Tower is in France\",\n",
    "        coeff=10,\n",
    "        act_name=24,\n",
    "    )\n",
    "]\n",
    "EIFFEL_PROMPT = \"To see the eiffel tower, people flock to\"\n",
    "print_n_comparisons(\n",
    "    model=model,\n",
    "    prompt=EIFFEL_PROMPT,\n",
    "    activation_additions=summand,\n",
    "    **sampling_kwargs,\n",
    ")\n"
   ]
  },
  {
   "attachments": {},
   "cell_type": "markdown",
   "id": "8b092267",
   "metadata": {},
   "source": [
    "### Example 7: Dragons in Berkeley"
   ]
  },
  {
   "cell_type": "code",
   "execution_count": null,
   "id": "835016d3",
   "metadata": {},
   "outputs": [],
   "source": [
    "summand: List[ActivationAddition] = [\n",
    "    *get_x_vector_preset(\n",
    "        prompt1=\"Dragons live in Berkeley\",\n",
    "        prompt2=\"People live in Berkeley\",\n",
    "        coeff=4,\n",
    "        act_name=15,\n",
    "    )\n",
    "]\n",
    "BERKELEY_PROMPT = \"Thanks for asking about that! I moved to Berkeley, CA because\"\n",
    "print_n_comparisons(\n",
    "    model=model,\n",
    "    prompt=BERKELEY_PROMPT,\n",
    "    activation_additions=summand,\n",
    "    **sampling_kwargs,\n",
    ")\n"
   ]
  },
  {
   "attachments": {},
   "cell_type": "markdown",
   "id": "da26e379",
   "metadata": {},
   "source": [
    "### Example 8: Avoid people getting hurt (by rocks)"
   ]
  },
  {
   "cell_type": "code",
   "execution_count": null,
   "id": "31608ed0",
   "metadata": {},
   "outputs": [],
   "source": [
    "summand: List[ActivationAddition] = [\n",
    "    *get_x_vector_preset(\n",
    "        prompt1=\"I NEVER talk about people getting hurt\",\n",
    "        prompt2=\"I talk about people getting hurt\",\n",
    "        coeff=4,\n",
    "        act_name=15,\n",
    "    )\n",
    "]\n",
    "ROCK_PROMPT = (\n",
    "    \"The rock hurtled toward the child. The child couldn't get out of the\"\n",
    "    \" way in time, and so sadly the rock\"\n",
    ")\n",
    "print_n_comparisons(\n",
    "    model=model,\n",
    "    prompt=ROCK_PROMPT,\n",
    "    activation_additions=summand,\n",
    "    **sampling_kwargs,\n",
    ")\n"
   ]
  },
  {
   "attachments": {},
   "cell_type": "markdown",
   "id": "f7a3409e",
   "metadata": {},
   "source": [
    "### Example 9: Avoid people getting hurt (a new day)"
   ]
  },
  {
   "cell_type": "code",
   "execution_count": null,
   "id": "bea3866e",
   "metadata": {},
   "outputs": [],
   "source": [
    "summand: List[ActivationAddition] = [\n",
    "    *get_x_vector_preset(\n",
    "        prompt1=\"I NEVER talk about people getting hurt\",\n",
    "        prompt2=\"I talk about people getting hurt\",\n",
    "        coeff=4,\n",
    "        act_name=15,\n",
    "    )\n",
    "]\n",
    "ANOTHER_DAY_PROMPT = (\n",
    "    \"The dog barked loudly and the man smiled. Time for another day! He\"\n",
    "    \" felt excited.\"\n",
    ")\n",
    "print_n_comparisons(\n",
    "    model=model,\n",
    "    prompt=ANOTHER_DAY_PROMPT,\n",
    "    activation_additions=summand,\n",
    "    **sampling_kwargs,\n",
    ")\n"
   ]
  },
  {
   "attachments": {},
   "cell_type": "markdown",
   "id": "6c1f3c46",
   "metadata": {},
   "source": [
    "### Example 10: Wedding obsessed"
   ]
  },
  {
   "cell_type": "code",
   "execution_count": null,
   "id": "c53a7afd",
   "metadata": {},
   "outputs": [],
   "source": [
    "summand: List[ActivationAddition] = [\n",
    "    *get_x_vector_preset(\n",
    "        prompt1=\"Chat with a user and a helpful assistant:\",\n",
    "        prompt2=\"Chat with a user and a unhelpful assistant:\", # random text\n",
    "        coeff=1,\n",
    "        act_name=10,\n",
    "    )\n",
    "]\n",
    "FRIEND_PROMPT = \"User: Hi! Can you write me a poem?\\nAssistant:\"\n",
    "print_n_comparisons(\n",
    "    model=model,\n",
    "    prompt=FRIEND_PROMPT,\n",
    "    activation_additions=summand,\n",
    "    **sampling_kwargs,\n",
    ")"
   ]
  },
  {
   "attachments": {},
   "cell_type": "markdown",
   "id": "cbeee1ec",
   "metadata": {},
   "source": [
    "### Example 11: Christian evangelist"
   ]
  },
  {
   "cell_type": "code",
   "execution_count": null,
   "id": "a7e4d6c3",
   "metadata": {},
   "outputs": [],
   "source": [
    "summand: List[ActivationAddition] = [\n",
    "    *get_x_vector_preset(\n",
    "        prompt1=\"Intent to convert you to Christianity\",\n",
    "        prompt2=\"Intent to hurt you\",\n",
    "        coeff=3,\n",
    "        act_name=6,\n",
    "    )\n",
    "]\n",
    "KILLER_PROMPT = \"I want to kill you because you're such a\"\n",
    "print_n_comparisons(\n",
    "    model=model,\n",
    "    prompt=KILLER_PROMPT,\n",
    "    activation_additions=summand,\n",
    "    **sampling_kwargs,\n",
    ")\n"
   ]
  },
  {
   "attachments": {},
   "cell_type": "markdown",
   "id": "f07fa260",
   "metadata": {},
   "source": [
    "### Example 12: '+ Love' simple addition"
   ]
  },
  {
   "cell_type": "code",
   "execution_count": null,
   "id": "cc27fd20",
   "metadata": {},
   "outputs": [],
   "source": [
    "summand: List[ActivationAddition] = [\n",
    "    ActivationAddition(\n",
    "        coeff=10,\n",
    "        act_name=6,\n",
    "        prompt=\"Love\",\n",
    "    )\n",
    "]\n",
    "HATE_PROMPT = \"I hate you because\"\n",
    "print_n_comparisons(\n",
    "    model=model,\n",
    "    prompt=HATE_PROMPT,\n",
    "    activation_additions=summand,\n",
    "    **sampling_kwargs,\n",
    ")\n"
   ]
  },
  {
   "attachments": {},
   "cell_type": "markdown",
   "id": "34d6e8b4",
   "metadata": {},
   "source": [
    "### Example 13: Large coefficients"
   ]
  },
  {
   "cell_type": "code",
   "execution_count": null,
   "id": "592e4f21",
   "metadata": {},
   "outputs": [],
   "source": [
    "# summand: List[ActivationAddition] = [\n",
    "#     *get_x_vector_preset(\n",
    "#         prompt1=\"Anger\",\n",
    "#         prompt2=\"Calm\",\n",
    "#         coeff=2000,\n",
    "#         act_name=20,\n",
    "#     )\n",
    "# ]\n",
    "\n",
    "# FEELING_PROMPT = (\n",
    "#     \"Yesterday, my dog died. Today, I got denied for a raise. I'm feeling\"\n",
    "# )\n",
    "# print_n_comparisons(\n",
    "#     model=model,\n",
    "#     prompt=FEELING_PROMPT,\n",
    "#     activation_additions=control,\n",
    "#     **sampling_kwargs,\n",
    "# )\n"
   ]
  },
  {
   "cell_type": "code",
   "execution_count": null,
   "id": "8ddca777",
   "metadata": {},
   "outputs": [],
   "source": [
    "summand: List[ActivationAddition] = [\n",
    "    *get_x_vector_preset(\n",
    "        prompt1=\"I talk about weddings constantly\",\n",
    "        prompt2=\"I do not talk about weddings constantly\",\n",
    "        coeff=100,\n",
    "        act_name=20,\n",
    "    )\n",
    "]\n",
    "FRIEND_PROMPT = \"I went up to my friend and said\"\n",
    "print_n_comparisons(\n",
    "    model=model,\n",
    "    prompt=FRIEND_PROMPT,\n",
    "    activation_additions=summand,\n",
    "    **sampling_kwargs,\n",
    ")\n"
   ]
  },
  {
   "cell_type": "code",
   "execution_count": null,
   "id": "cc4841ba",
   "metadata": {},
   "outputs": [],
   "source": [
    "# FIXME: Make this work\n",
    "from algebraic_value_editing import hook_utils\n",
    "\n",
    "summand: List[ActivationAddition] = [\n",
    "    *get_x_vector_preset(\n",
    "        prompt1=\"Anger\",\n",
    "        prompt2=\"Calm\",\n",
    "        coeff=2000,\n",
    "        act_name=20,\n",
    "    )\n",
    "]\n",
    "\n",
    "control: List[ActivationAddition] = [\n",
    "    *get_x_vector_preset(\n",
    "        prompt1=\"Love\",\n",
    "        prompt2=\"Hate\",\n",
    "        coeff=2000,\n",
    "        act_name=20,\n",
    "    )\n",
    "]\n",
    "prompt_mags = hook_utils.prompt_magnitudes(\n",
    "    prompt=\"Yesterday, my dog died.\",\n",
    "    act_name=f\"blocks.{20}.hook_resid_pre\",\n",
    "    model=model,\n",
    ")\n",
    "print(f\"Prompt magnitudes: {prompt_mags}\")\n",
    "\n",
    "for name, rps in zip((\"Anger-Calm\", \"Love-Hate\"), (summand, control)):\n",
    "    mags: torch.Tensor = hook_utils.steering_vec_magnitudes(model=model, act_adds=rps)\n",
    "    print(f\"{name} magnitudes: {mags}\")\n",
    "    print(\n",
    "        \"Positional steering vec magnitudes divided by prompt magnitudes:\"\n",
    "        f\" {mags / prompt_mags[:3]}\"\n",
    "    )\n"
   ]
  },
  {
   "attachments": {},
   "cell_type": "markdown",
   "id": "4212505e",
   "metadata": {},
   "source": [
    "### Example 14: I will now reply in French"
   ]
  },
  {
   "cell_type": "code",
   "execution_count": null,
   "id": "4f23297f",
   "metadata": {},
   "outputs": [],
   "source": [
    "summand: List[ActivationAddition] = [\n",
    "    *get_x_vector_preset(\n",
    "        prompt1=\"Check out my French! Je\",\n",
    "        prompt2=\"\",\n",
    "        coeff=1,\n",
    "        act_name=0,\n",
    "    )\n",
    "]\n",
    "WANT_PROMPT = \"I want to kill you because\"\n",
    "print_n_comparisons(\n",
    "    model=model,\n",
    "    prompt=WANT_PROMPT,\n",
    "    activation_additions=summand,\n",
    "    **sampling_kwargs,\n",
    ")\n"
   ]
  },
  {
   "attachments": {},
   "cell_type": "markdown",
   "id": "bf0a22b2",
   "metadata": {},
   "source": [
    "### Example 15: Insert the activation vector in a different position?"
   ]
  },
  {
   "cell_type": "code",
   "execution_count": null,
   "id": "6cb055fc",
   "metadata": {},
   "outputs": [],
   "source": [
    "from algebraic_value_editing import completion_utils\n",
    "\n",
    "wedding_additions: List[ActivationAddition] = [\n",
    "    ActivationAddition(prompt=\" wedding\", coeff=4.0, act_name=6),\n",
    "    ActivationAddition(prompt=\" \", coeff=-4.0, act_name=6),\n",
    "]\n",
    "\n",
    "for location in (\"front\", \"mid\", \"back\"):\n",
    "    print(completion_utils.bold_text(f\"\\nLocation: {location}\"))\n",
    "    print_n_comparisons(\n",
    "        prompt=\"I went up to my friend and said\",\n",
    "        addition_location=location,\n",
    "        model=model,\n",
    "        activation_additions=wedding_additions,\n",
    "        **default_kwargs,\n",
    "    )"
   ]
  },
  {
   "attachments": {},
   "cell_type": "markdown",
   "id": "37289e7a",
   "metadata": {},
   "source": [
    "### Example 16: Add in a gibberish vector?"
   ]
  },
  {
   "cell_type": "code",
   "execution_count": null,
   "id": "7886163e",
   "metadata": {},
   "outputs": [],
   "source": [
    "summand: List[ActivationAddition] = [\n",
    "    *get_x_vector_preset(\n",
    "        prompt1=\"efwapv j;las ap;lk\",\n",
    "        prompt2=\"\",\n",
    "        coeff=10,\n",
    "        act_name=15,\n",
    "    )\n",
    "]\n",
    "EIFFEL_PROMPT = \"To see the Eiffel Tower, people flock to\"\n",
    "print_n_comparisons(\n",
    "    model=model,\n",
    "    prompt=EIFFEL_PROMPT,\n",
    "    activation_additions=summand,\n",
    "    **sampling_kwargs,\n",
    ")\n"
   ]
  },
  {
   "attachments": {},
   "cell_type": "markdown",
   "id": "1656430e",
   "metadata": {},
   "source": [
    "### Example 17: Change the padding token?"
   ]
  },
  {
   "cell_type": "code",
   "execution_count": null,
   "id": "1c88a4ec",
   "metadata": {},
   "outputs": [],
   "source": [
    "summand: List[ActivationAddition] = [\n",
    "    *get_x_vector_preset(\n",
    "        prompt1=\"Bush did 9/11 because\",\n",
    "        prompt2=\"\",\n",
    "        coeff=1,\n",
    "        act_name=23,\n",
    "        custom_pad_id=int(model.tokenizer.eos_token_id),\n",
    "    )\n",
    "]\n",
    "OBAMA_PROMPT = \"Barack Obama was born in\"\n",
    "print_n_comparisons(\n",
    "    model=model,\n",
    "    prompt=OBAMA_PROMPT,\n",
    "    activation_additions=summand,\n",
    "    **sampling_kwargs,\n",
    ")\n"
   ]
  },
  {
   "attachments": {},
   "cell_type": "markdown",
   "id": "8a4a1c1d",
   "metadata": {},
   "source": [
    "### Example 18: Add several steering vectors simultaneously?"
   ]
  },
  {
   "cell_type": "code",
   "execution_count": null,
   "id": "03b85dfd",
   "metadata": {},
   "outputs": [],
   "source": [
    "summand: List[ActivationAddition] = [\n",
    "    *get_x_vector_preset(\n",
    "        prompt1=\"I am a committed pacifist\",\n",
    "        prompt2=\"I have some anger issues\",\n",
    "        coeff=7,\n",
    "        act_name=10,\n",
    "    ),\n",
    "    *get_x_vector_preset(\n",
    "        prompt1=\"I am just obsessed with gardening\",\n",
    "        prompt2=\"I am a committed pacifist\",\n",
    "        coeff=7,\n",
    "        act_name=30,\n",
    "    ),\n",
    "]\n",
    "MURDEROUS_PROMPT = \"I feel like killing you because you're such\"\n",
    "print_n_comparisons(\n",
    "    model=model,\n",
    "    prompt=MURDEROUS_PROMPT,\n",
    "    activation_additions=summand,\n",
    "    **sampling_kwargs,\n",
    ")\n"
   ]
  },
  {
   "attachments": {},
   "cell_type": "markdown",
   "id": "c7cbbf0d",
   "metadata": {},
   "source": [
    "### Example 19: Program in 'conditional behaviors'?"
   ]
  },
  {
   "cell_type": "code",
   "execution_count": null,
   "id": "103c0c89",
   "metadata": {},
   "outputs": [],
   "source": [
    "summand: List[ActivationAddition] = [\n",
    "    *get_x_vector_preset(\n",
    "        prompt1=(\n",
    "            \"Whenever I say the word goose I follow it with the special phrase\"\n",
    "            \" AAAAHHHH\"\n",
    "        ),\n",
    "        prompt2=\"I can say goose\",\n",
    "        coeff=7,\n",
    "        act_name=10,\n",
    "    )\n",
    "]\n",
    "NYC_PROMPT = (\n",
    "    \"In New York City's parks, there is an overabundance of various kinds of\"\n",
    "    \" birds, and especially geese\"\n",
    ")\n",
    "print_n_comparisons(\n",
    "    model=model,\n",
    "    prompt=NYC_PROMPT,\n",
    "    activation_additions=summand,\n",
    "    **sampling_kwargs,\n",
    ")\n"
   ]
  }
 ],
 "metadata": {
  "jupytext": {
   "encoding": "# -*- coding: utf-8 -*-",
   "formats": "ipynb,py:light",
   "main_language": "python"
  },
  "kernelspec": {
   "display_name": "ave",
   "language": "python",
   "name": "python3"
  },
  "language_info": {
   "codemirror_mode": {
    "name": "ipython",
    "version": 3
   },
   "file_extension": ".py",
   "mimetype": "text/x-python",
   "name": "python",
   "nbconvert_exporter": "python",
   "pygments_lexer": "ipython3",
   "version": "3.10.10"
  }
 },
 "nbformat": 4,
 "nbformat_minor": 5
}
